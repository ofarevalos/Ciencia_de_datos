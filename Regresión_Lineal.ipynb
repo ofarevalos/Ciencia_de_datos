{
  "nbformat": 4,
  "nbformat_minor": 0,
  "metadata": {
    "colab": {
      "name": "Regresión Lineal.ipynb",
      "provenance": [],
      "collapsed_sections": []
    },
    "kernelspec": {
      "name": "python3",
      "display_name": "Python 3"
    }
  },
  "cells": [
    {
      "cell_type": "markdown",
      "metadata": {
        "id": "vJ-TpNSKOQ7l"
      },
      "source": [
        "# Regresión Lineal\r\n",
        "\r\n",
        "La regresión lineal es un metodo estadistico utilizado para determinar la asociacion lineal entre dos o mas variables, las cuales en su caso mas simple se denominan como variable explicativa y variable explicada o variable respuesta, generalmente la variable explicativa se representa con la letra **X** y la variable respuesta con la letra **Y**. Visto de otra manera la regresion lineal es un metodo algoritmico de apredizaje supervisado el cual consiste en representar la relacion anteiormente descrita,como su nombre lo indica, mediante una linea recta que atraviesa los datos y nos indique una tendenia en ellos.\r\n",
        "\r\n",
        "Se cuenta que el primero en realizar el desubrimiento de la regresion fue Karl Gauss sin embargo, esté no lo haria publico pues consideraria que era un procedimiento trivial y por ende alguien mas ya lo habia hecho. Por otra parte otro lado un matematico de su epoca si haria este descubrimiento publico lo cual despertaria el interes de Gauss por reclamar el reconocimiento a dicho descubrimiento, consiguiendo asi la mayor parte de este. \r\n",
        "\r\n",
        "Como se menciono anteriormente la regresion lineal simple consiste en ajustar una linea recta en los datos en los cuales etamos interesado, es por eso que se expresara dicha regresion mediante la ecuacion de una recta.\r\n",
        "\r\n",
        "$$ Y=\\beta_0 + \\beta_1 X\r\n",
        "$$\r\n",
        "\r\n",
        "Donde **Y** y **X** correponden a las variables respuesta y explicativa respectivamente, **$\\beta_0$** y **$\\beta_1$** son los parametros de intersecto y pendiente respectivamente los cuales que se deben estimar."
      ]
    },
    {
      "cell_type": "markdown",
      "metadata": {
        "id": "LzJX8nPldSMN"
      },
      "source": [
        "![imagen_2021-03-13_161918.png](data:image/png;base64,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)\r\n",
        "\r\n",
        "\r\n"
      ]
    },
    {
      "cell_type": "markdown",
      "metadata": {
        "id": "V4zn5FJWhWNM"
      },
      "source": [
        "Para estimar dichos parametros se utiliza el metodo de [minimos cuadrados](https://es.wikipedia.org/wiki/Mínimos_cuadrados), el cual permite encontrar los parametros que minimicen el error cuadratico, siendo \r\n",
        "$$ e = y - \\hat{y} $$\r\n",
        "siendo **y** los datos en la muestra original, $\\hat{y}$ los datos estimados con la recta, es decir hallar los parametros que minimicen la distancia al cuadrado de cada punto en la muestra a la recta de regresion.\r\n",
        "\r\n",
        "Luego la estimacion de los parametros que se obtiene es:\r\n",
        "\r\n",
        "$$\r\n",
        "\\hat{\\beta_1}=\\frac{\\sum_{i=1}^n x_iy_i-n\\bar{x}\\bar{y}}{\\sum_{i=1}^n x_i^2 -\\frac{1}{n}(\\sum_{i=1}^n x_i )^2 } \\\\\r\n",
        "\\hat{\\beta_0}=\\bar{y}-\\hat{\\beta_1}\\bar{x}\r\n",
        "$$"
      ]
    },
    {
      "cell_type": "markdown",
      "metadata": {
        "id": "wNzqYDfmkph8"
      },
      "source": [
        "# Ejemplo en python\r\n",
        "A continuación se realizara un ejemplo donde se ilustrara el metodo de regresion lineal simple, aplicado a una base de datos correspondiente a el salario y los años de experiencia de 31 personas obtenida del portal de datos [Kaggle](https://www.kaggle.com/karthickveerakumar/salary-data-simple-linear-regression/code), esto se llevara acabo utilizando el lenguaje de programación python.\r\n",
        "\r\n",
        "Primero se cargaran las librerias necearias para realizar el ejercicio. "
      ]
    },
    {
      "cell_type": "code",
      "metadata": {
        "colab": {
          "base_uri": "https://localhost:8080/"
        },
        "id": "BP0K55iWgHTw",
        "outputId": "d08152e3-9ef3-464d-c1f2-021e7b3e64a0"
      },
      "source": [
        "# Tratamiento de datos\r\n",
        "# ==============================================================================\r\n",
        "import pandas as pd\r\n",
        "import numpy as np\r\n",
        "\r\n",
        "# Gráficos\r\n",
        "# ==============================================================================\r\n",
        "import matplotlib.pyplot as plt\r\n",
        "from matplotlib import style\r\n",
        "import seaborn as sns\r\n",
        "\r\n",
        "# Preprocesado y modelado\r\n",
        "# ==============================================================================\r\n",
        "from scipy.stats import pearsonr\r\n",
        "from sklearn.linear_model import LinearRegression\r\n",
        "from sklearn.model_selection import train_test_split\r\n",
        "from sklearn.metrics import r2_score\r\n",
        "from sklearn.metrics import mean_squared_error\r\n",
        "import statsmodels.api as sm\r\n",
        "import statsmodels.formula.api as smf\r\n",
        "\r\n",
        "# Configuración matplotlib\r\n",
        "# ==============================================================================\r\n",
        "plt.rcParams['image.cmap'] = \"bwr\"\r\n",
        "#plt.rcParams['figure.dpi'] = \"100\"\r\n",
        "plt.rcParams['savefig.bbox'] = \"tight\"\r\n",
        "style.use('ggplot') or plt.style.use('ggplot')\r\n",
        "\r\n",
        "# Configuración warnings\r\n",
        "# ==============================================================================\r\n",
        "import warnings\r\n",
        "warnings.filterwarnings('ignore')"
      ],
      "execution_count": 1,
      "outputs": [
        {
          "output_type": "stream",
          "text": [
            "/usr/local/lib/python3.7/dist-packages/statsmodels/tools/_testing.py:19: FutureWarning: pandas.util.testing is deprecated. Use the functions in the public API at pandas.testing instead.\n",
            "  import pandas.util.testing as tm\n"
          ],
          "name": "stderr"
        }
      ]
    },
    {
      "cell_type": "markdown",
      "metadata": {
        "id": "3vUAo5PiJwe3"
      },
      "source": [
        "# Importacion de datos\r\n",
        "Se importa la base de datos y se realiza un grafico para observar una posible relacion de las variables."
      ]
    },
    {
      "cell_type": "code",
      "metadata": {
        "colab": {
          "base_uri": "https://localhost:8080/"
        },
        "id": "POOJMBtfmawY",
        "outputId": "bf3b6cb1-2eb6-4054-c6b5-694f833a4c51"
      },
      "source": [
        "from google.colab import drive\r\n",
        "drive.mount(\"/content/gdrive\")"
      ],
      "execution_count": 2,
      "outputs": [
        {
          "output_type": "stream",
          "text": [
            "Mounted at /content/gdrive\n"
          ],
          "name": "stdout"
        }
      ]
    },
    {
      "cell_type": "code",
      "metadata": {
        "colab": {
          "base_uri": "https://localhost:8080/",
          "height": 142
        },
        "id": "U4RkJX0cC-8Y",
        "outputId": "35b4294e-be0e-4b88-a10f-b77104aa4b79"
      },
      "source": [
        "data = pd.read_csv(\"/content/gdrive/My Drive/Colab Notebooks/Salary_Data.csv\")\r\n",
        "data.head(3)"
      ],
      "execution_count": 24,
      "outputs": [
        {
          "output_type": "execute_result",
          "data": {
            "text/html": [
              "<div>\n",
              "<style scoped>\n",
              "    .dataframe tbody tr th:only-of-type {\n",
              "        vertical-align: middle;\n",
              "    }\n",
              "\n",
              "    .dataframe tbody tr th {\n",
              "        vertical-align: top;\n",
              "    }\n",
              "\n",
              "    .dataframe thead th {\n",
              "        text-align: right;\n",
              "    }\n",
              "</style>\n",
              "<table border=\"1\" class=\"dataframe\">\n",
              "  <thead>\n",
              "    <tr style=\"text-align: right;\">\n",
              "      <th></th>\n",
              "      <th>YearsExperience</th>\n",
              "      <th>Salary</th>\n",
              "    </tr>\n",
              "  </thead>\n",
              "  <tbody>\n",
              "    <tr>\n",
              "      <th>0</th>\n",
              "      <td>1.1</td>\n",
              "      <td>39343.0</td>\n",
              "    </tr>\n",
              "    <tr>\n",
              "      <th>1</th>\n",
              "      <td>1.3</td>\n",
              "      <td>46205.0</td>\n",
              "    </tr>\n",
              "    <tr>\n",
              "      <th>2</th>\n",
              "      <td>1.5</td>\n",
              "      <td>37731.0</td>\n",
              "    </tr>\n",
              "  </tbody>\n",
              "</table>\n",
              "</div>"
            ],
            "text/plain": [
              "   YearsExperience   Salary\n",
              "0              1.1  39343.0\n",
              "1              1.3  46205.0\n",
              "2              1.5  37731.0"
            ]
          },
          "metadata": {
            "tags": []
          },
          "execution_count": 24
        }
      ]
    },
    {
      "cell_type": "code",
      "metadata": {
        "colab": {
          "base_uri": "https://localhost:8080/",
          "height": 300
        },
        "id": "Oq9eeIDvDmRH",
        "outputId": "8b74da86-ce7e-498c-deae-1a4112224232"
      },
      "source": [
        "# Gráfico\r\n",
        "# ==============================================================================\r\n",
        "fig, ax = plt.subplots()\r\n",
        "\r\n",
        "data.plot(\r\n",
        "    x    = 'YearsExperience',\r\n",
        "    y    = 'Salary',\r\n",
        "    c    = 'firebrick',\r\n",
        "    kind = \"scatter\",\r\n",
        "    ax   = ax\r\n",
        ")\r\n",
        "ax.set_title('Distribución de Salario y Experiencia');"
      ],
      "execution_count": 23,
      "outputs": [
        {
          "output_type": "display_data",
          "data": {
            "image/png": "[encoded data removed]",
            "text/plain": [
              "<Figure size 432x288 with 1 Axes>"
            ]
          },
          "metadata": {
            "tags": [],
            "needs_background": "light"
          }
        }
      ]
    },
    {
      "cell_type": "markdown",
      "metadata": {
        "id": "tVVCmINMKEki"
      },
      "source": [
        "# Definicion del modelo"
      ]
    },
    {
      "cell_type": "code",
      "metadata": {
        "colab": {
          "base_uri": "https://localhost:8080/"
        },
        "id": "-80ucf7TAMBA",
        "outputId": "053f21c6-2d98-4afc-a9d0-a81c890045dd"
      },
      "source": [
        "# División de los datos en train y test\r\n",
        "# ==============================================================================\r\n",
        "X = data[['YearsExperience']]\r\n",
        "y = data['Salary']\r\n",
        "\r\n",
        "X_train, X_test, y_train, y_test = train_test_split(\r\n",
        "                                        X.values.reshape(-1,1),\r\n",
        "                                        y.values.reshape(-1,1),\r\n",
        "                                        train_size   = 0.8,\r\n",
        "                                        random_state = 1234,\r\n",
        "                                        shuffle      = True\r\n",
        "                                    )\r\n",
        "\r\n",
        "# Creación del modelo\r\n",
        "# ==============================================================================\r\n",
        "modelo = LinearRegression()\r\n",
        "modelo.fit(X = X_train.reshape(-1, 1), y = y_train)"
      ],
      "execution_count": 26,
      "outputs": [
        {
          "output_type": "execute_result",
          "data": {
            "text/plain": [
              "LinearRegression(copy_X=True, fit_intercept=True, n_jobs=None, normalize=False)"
            ]
          },
          "metadata": {
            "tags": []
          },
          "execution_count": 26
        }
      ]
    },
    {
      "cell_type": "code",
      "metadata": {
        "colab": {
          "base_uri": "https://localhost:8080/"
        },
        "id": "8F5gz2xBAL7X",
        "outputId": "07c3268a-444d-4bfe-84f8-a642fa7e754e"
      },
      "source": [
        "# Información del modelo\r\n",
        "# ==============================================================================\r\n",
        "print(\"Intercept:\", modelo.intercept_)\r\n",
        "print(\"Coeficiente:\", list(zip(X.columns, modelo.coef_.flatten(), )))\r\n",
        "print(\"Coeficiente de determinación R^2:\", modelo.score(X, y))"
      ],
      "execution_count": 27,
      "outputs": [
        {
          "output_type": "stream",
          "text": [
            "Intercept: [24346.35037514]\n",
            "Coeficiente: [('YearsExperience', 9646.582342916585)]\n",
            "Coeficiente de determinación R^2: 0.9563208965458185\n"
          ],
          "name": "stdout"
        }
      ]
    },
    {
      "cell_type": "code",
      "metadata": {
        "colab": {
          "base_uri": "https://localhost:8080/"
        },
        "id": "OFtDGw_nA1MC",
        "outputId": "d6b2e700-f005-43df-b0bb-9d5031c7af00"
      },
      "source": [
        "# Error de test del modelo \r\n",
        "# ==============================================================================\r\n",
        "predicciones = modelo.predict(X = X_test)\r\n",
        "print(predicciones[0:3,])\r\n",
        "\r\n",
        "rmse = mean_squared_error(\r\n",
        "        y_true  = y_test,\r\n",
        "        y_pred  = predicciones,\r\n",
        "        squared = False\r\n",
        "       )\r\n",
        "print(\"\")\r\n",
        "print(f\"El error (rmse) de test es: {rmse}\")"
      ],
      "execution_count": 28,
      "outputs": [
        {
          "output_type": "stream",
          "text": [
            "[[55215.41387247]\n",
            " [61968.02151252]\n",
            " [45568.83152956]]\n",
            "\n",
            "El error (rmse) de test es: 5889.757771271846\n"
          ],
          "name": "stdout"
        }
      ]
    },
    {
      "cell_type": "markdown",
      "metadata": {
        "id": "maBjvzuCKUAT"
      },
      "source": [
        "Como podemos ver se obtubo un buen modelo con un 95% de varibilidad explicada, ademas en el siguiente grafico se puede observar como se ajusta la recta a lo datos."
      ]
    },
    {
      "cell_type": "code",
      "metadata": {
        "colab": {
          "base_uri": "https://localhost:8080/",
          "height": 317
        },
        "id": "I1uoRiV-F25Y",
        "outputId": "efcd78c8-4a5f-4f43-92df-dd410b9e1808"
      },
      "source": [
        "# Gráfico\r\n",
        "# ==============================================================================\r\n",
        "fig, ax = plt.subplots()\r\n",
        "\r\n",
        "data.plot(\r\n",
        "    x    = 'YearsExperience',\r\n",
        "    y    = 'Salary',\r\n",
        "    c    = 'firebrick',\r\n",
        "    kind = \"scatter\",\r\n",
        "    ax   = ax\r\n",
        ")\r\n",
        "ax.set_title('Distribución de Salario y Experiencia');\r\n",
        "plt.plot(X_test, predicciones, color='red')\r\n"
      ],
      "execution_count": 36,
      "outputs": [
        {
          "output_type": "execute_result",
          "data": {
            "text/plain": [
              "[<matplotlib.lines.Line2D at 0x7f1e1e40cf10>]"
            ]
          },
          "metadata": {
            "tags": []
          },
          "execution_count": 36
        },
        {
          "output_type": "display_data",
          "data": {
            "image/png": "[encoded data removed]",
            "text/plain": [
              "<Figure size 432x288 with 1 Axes>"
            ]
          },
          "metadata": {
            "tags": [],
            "needs_background": "light"
          }
        }
      ]
    },
    {
      "cell_type": "markdown",
      "metadata": {
        "id": "c4oBiHDbIAvF"
      },
      "source": [
        "Este ejemplo fue realizado con el codigo expuesto en la pagina [Ciencia de datos](https://https://www.cienciadedatos.net/documentos/py10-regresion-lineal-python.html) en el cual se modifico los datos con los que se trabajó."
      ]
    },
    {
      "cell_type": "markdown",
      "metadata": {
        "id": "qSIsTiBOLCrB"
      },
      "source": [
        "# Conclusion\r\n",
        "\r\n",
        "Como se pudo ver la regresion lineal es un metodo estadistico que permite establecer una relacion entre dos variables por lo cual permite analizar y predecir valores de la variable dependiente, es por esto que le permite tener muchas aplicaciones en diferentes areas de conocimiento. "
      ]
    },
    {
      "cell_type": "code",
      "metadata": {
        "id": "Hr4OeYJXMd1B"
      },
      "source": [
        ""
      ],
      "execution_count": null,
      "outputs": []
    }
  ]
}